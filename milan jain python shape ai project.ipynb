{
 "cells": [
  {
   "cell_type": "code",
   "execution_count": 4,
   "metadata": {
    "scrolled": false
   },
   "outputs": [
    {
     "name": "stdout",
     "output_type": "stream",
     "text": [
      "ENTER YOUR CITY NAME: agra\n",
      "....................................\n",
      "weather states for-AGRA \\28 Jul 2021 | 11:16:48 AM\n",
      "....................................\n",
      "Current temperture is:28.99 deg C\n",
      "current weather desc : overcast clouds\n",
      "Humidity  : 75 %\n",
      "current wind speed  : 4.46 kmph\n",
      "....................................\n"
     ]
    }
   ],
   "source": [
    "# Milan jain \n",
    "#shape AI project\n",
    "\n",
    "\n",
    "import requests\n",
    "# import os\n",
    "from datetime import datetime\n",
    "\n",
    "api_key =\"b1f9aa1f11f6dc9e7cd37128155e8d7d\"\n",
    "location = input(\"ENTER YOUR CITY NAME: \")\n",
    "\n",
    "\n",
    "complete_api_link=\"https://api.openweathermap.org/data/2.5/weather?q=\"+location+\"&appid=\"+api_key\n",
    "api_link= requests.get(complete_api_link)\n",
    "api_data=api_link.json()\n",
    "\n",
    "temp_city =((api_data[\"main\"][\"temp\"]-273.15))\n",
    "weather_desc =api_data[\"weather\"][0]['description']\n",
    "hdt= api_data['main'][\"humidity\"]\n",
    "wind_spd=  api_data[\"wind\"]['speed']\n",
    "\n",
    "date_time = datetime.now().strftime(\"%d %b %Y | %I:%M:%S %p\")\n",
    "\n",
    "\n",
    "print(\"....................................\")\n",
    "print(\"weather states for-{} \\\\{}\".format(location.upper(),date_time))\n",
    "print(\"....................................\")\n",
    "print(\"Current temperture is:{:.2f} deg C\".format(temp_city))\n",
    "print(\"current weather desc :\",weather_desc)\n",
    "print(\"Humidity  :\",hdt,\"%\")\n",
    "print(\"current wind speed  :\",wind_spd,\"kmph\")\n",
    "\n",
    "print(\"....................................\")\n",
    "txtlist=[temp_city,weather_desc,hdt,wind_spd,date_time]\n",
    "with open (\"textfile.txt\" , mode=\"w\",encoding='utf-8')as f :\n",
    "    \n",
    "    f.write(\"....................................\\n \")\n",
    "    f.write(\"weather stats for - {} \\\\ {}\".format(location.upper(),date_time))\n",
    "    \n",
    "    f.write(\" \\n....................................\\n \")\n",
    "    f.write(\"current temperture is :{:.2f} deg C\\n\".format(txtlist[0]))\n",
    "    \n",
    "    f.write(\"{},{} \\n\".format(\"current weather desc :\",txtlist[1]))\n",
    "    f.write(\"{},{},{} \\n\".format(\"current Humidity   : \",txtlist[2],\"%\"))\n",
    "    f.write(\"{},{},{} \\n\".format(\"current wind speed   : \",txtlist[3],\"kmph\"))\n",
    "    f.write(\"....................................\")\n",
    "\n",
    "    \n",
    "    "
   ]
  },
  {
   "cell_type": "code",
   "execution_count": null,
   "metadata": {},
   "outputs": [],
   "source": []
  },
  {
   "cell_type": "code",
   "execution_count": null,
   "metadata": {},
   "outputs": [],
   "source": []
  },
  {
   "cell_type": "code",
   "execution_count": null,
   "metadata": {},
   "outputs": [],
   "source": []
  },
  {
   "cell_type": "code",
   "execution_count": null,
   "metadata": {},
   "outputs": [],
   "source": []
  },
  {
   "cell_type": "code",
   "execution_count": null,
   "metadata": {},
   "outputs": [],
   "source": []
  },
  {
   "cell_type": "code",
   "execution_count": null,
   "metadata": {},
   "outputs": [],
   "source": []
  }
 ],
 "metadata": {
  "kernelspec": {
   "display_name": "Python 3",
   "language": "python",
   "name": "python3"
  },
  "language_info": {
   "codemirror_mode": {
    "name": "ipython",
    "version": 3
   },
   "file_extension": ".py",
   "mimetype": "text/x-python",
   "name": "python",
   "nbconvert_exporter": "python",
   "pygments_lexer": "ipython3",
   "version": "3.8.3"
  }
 },
 "nbformat": 4,
 "nbformat_minor": 4
}
